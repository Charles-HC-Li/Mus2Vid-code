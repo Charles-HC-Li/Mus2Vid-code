{
  "nbformat": 4,
  "nbformat_minor": 0,
  "metadata": {
    "colab": {
      "provenance": []
    },
    "kernelspec": {
      "name": "python3",
      "display_name": "Python 3"
    },
    "language_info": {
      "name": "python"
    }
  },
  "cells": [
    {
      "cell_type": "markdown",
      "source": [
        "This is a function of merging images to video. Before using this function, plz make sure that you have installed ffmpeg.\n",
        "\n",
        "To use this function, you need to use \"merge_images_to_video(image_folder, output_video_path, input_audio_path)\" in your .py file.\n",
        "\n",
        "For example --- merge_images_to_video('/content/drive/MyDrive/AI/StableDiffusion/2023-03/D', '/content/drive/MyDrive/output.mp4', '/content/drive/MyDrive/AI/StableDiffusion/2023-04/music.wav')"
      ],
      "metadata": {
        "id": "ooA6ufyPabFC"
      }
    },
    {
      "cell_type": "code",
      "source": [
        "from google.colab import drive\n",
        "drive.mount('/content/drive')"
      ],
      "metadata": {
        "colab": {
          "base_uri": "https://localhost:8080/"
        },
        "id": "xbFxQRHMJUtE",
        "outputId": "e3176aa2-500f-436d-9eca-74c3e249e55b"
      },
      "execution_count": 1,
      "outputs": [
        {
          "output_type": "stream",
          "name": "stdout",
          "text": [
            "Mounted at /content/drive\n"
          ]
        }
      ]
    },
    {
      "cell_type": "code",
      "source": [
        "! pip install ffmpeg"
      ],
      "metadata": {
        "colab": {
          "base_uri": "https://localhost:8080/"
        },
        "id": "3IrUbujgI7gp",
        "outputId": "00d039da-bbc0-4f96-b30e-f5fad545ef77"
      },
      "execution_count": 13,
      "outputs": [
        {
          "output_type": "stream",
          "name": "stdout",
          "text": [
            "Looking in indexes: https://pypi.org/simple, https://us-python.pkg.dev/colab-wheels/public/simple/\n",
            "Collecting ffmpeg\n",
            "  Downloading ffmpeg-1.4.tar.gz (5.1 kB)\n",
            "  Preparing metadata (setup.py) ... \u001b[?25l\u001b[?25hdone\n",
            "Building wheels for collected packages: ffmpeg\n",
            "  Building wheel for ffmpeg (setup.py) ... \u001b[?25l\u001b[?25hdone\n",
            "  Created wheel for ffmpeg: filename=ffmpeg-1.4-py3-none-any.whl size=6083 sha256=ec1afedbb68de26aa3cd6cd17bbc93fe900bfaa72bd1142872a7379be8ece7bd\n",
            "  Stored in directory: /root/.cache/pip/wheels/8e/7a/69/cd6aeb83b126a7f04cbe7c9d929028dc52a6e7d525ff56003a\n",
            "Successfully built ffmpeg\n",
            "Installing collected packages: ffmpeg\n",
            "Successfully installed ffmpeg-1.4\n"
          ]
        }
      ]
    },
    {
      "cell_type": "code",
      "execution_count": 18,
      "metadata": {
        "id": "wecWVZWRG_FL"
      },
      "outputs": [],
      "source": [
        "import os\n",
        "import subprocess\n",
        "\n",
        "def merge_images_to_video(image_folder, output_video_path, input_audio_path):\n",
        "    # Step 1: Get a list of PNG files in the image folder\n",
        "    image_files = [file for file in os.listdir(image_folder) if file.endswith('.png')]\n",
        "\n",
        "    # Step 2: Merge images into a video using FFmpeg\n",
        "    ffmpeg_cmd = [\n",
        "        'ffmpeg',\n",
        "        '-framerate', '30',  # Frames per second (adjust as needed)\n",
        "        '-i', os.path.join(image_folder, '%d.png'),  # Input image pattern\n",
        "        '-c:v', 'libx264',  # Video codec\n",
        "        '-r', '30',  # Output video frame rate (adjust as needed)\n",
        "        '-pix_fmt', 'yuv420p',  # Pixel format\n",
        "        '-crf', '23',  # Constant Rate Factor (adjust as needed)\n",
        "        '-preset', 'veryslow',  # Preset for encoding speed and compression efficiency (adjust as needed)\n",
        "        '-y',  # Overwrite output file if it exists\n",
        "        output_video_path\n",
        "    ]\n",
        "    subprocess.run(ffmpeg_cmd)\n",
        "    print('ready to add .wav!')\n",
        "\n",
        "    # Step 3: Combine video with the input audio using FFmpeg\n",
        "    ffmpeg_cmd = [\n",
        "        'ffmpeg',\n",
        "        '-i', output_video_path,\n",
        "        '-i', input_audio_path,\n",
        "        '-c:v', 'copy',  # Copy video codec\n",
        "        '-c:a', 'aac',  # Output audio codec\n",
        "        '-strict', '-2',  # Allow non-standard and experimental codecs\n",
        "        '-y',  # Overwrite output file if it exists\n",
        "        '-shortest',  # Make the output video duration match the shorter input (audio or video)\n",
        "        output_video_path[:-4] + '_final.mp4'  # Final video output path\n",
        "    ]\n",
        "    subprocess.run(ffmpeg_cmd)\n",
        "    print('ready to enjoy!')\n",
        "\n"
      ]
    },
    {
      "cell_type": "markdown",
      "source": [],
      "metadata": {
        "id": "5PXzfbrYI8La"
      }
    },
    {
      "cell_type": "code",
      "source": [
        "# Call the function\n",
        "merge_images_to_video('/content/drive/MyDrive/AI/StableDiffusion/2023-03/D', '/content/drive/MyDrive/output.mp4', '/content/drive/MyDrive/AI/StableDiffusion/2023-04/music.wav')"
      ],
      "metadata": {
        "colab": {
          "base_uri": "https://localhost:8080/"
        },
        "id": "CnhDYsUjJKBO",
        "outputId": "571d09f3-0be4-4b1b-a663-350d3979dc8e"
      },
      "execution_count": 11,
      "outputs": [
        {
          "output_type": "stream",
          "name": "stdout",
          "text": [
            "video is created \n"
          ]
        }
      ]
    }
  ]
}