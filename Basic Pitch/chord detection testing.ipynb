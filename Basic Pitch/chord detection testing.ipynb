{
 "cells": [
  {
   "cell_type": "code",
   "execution_count": 140,
   "id": "f30a390c",
   "metadata": {},
   "outputs": [],
   "source": [
    "import pretty_midi as pm\n",
    "chrom_notes = ['C', 'Db', 'D', 'Eb', 'E', 'F', 'Gb', 'G', 'Ab', 'A', 'Bb', 'B']\n",
    "offsets = {\n",
    "    '1': 0,\n",
    "    '2': 2,\n",
    "    '3': 4,\n",
    "    '4': 5,\n",
    "    '5': 7,\n",
    "    '6': 9,\n",
    "    '7': 11,\n",
    "    '8': 12,\n",
    "    '9': 14,\n",
    "    '10': 16,\n",
    "    '11': 17,\n",
    "    '12': 19,\n",
    "    '13': 21\n",
    "}\n",
    "# Returns a note name based on its MIDI note number\n",
    "def get_note(note_n):\n",
    "    return chrom_notes[note_n % 12]\n",
    "\n",
    "# Returns the correct note based on a root note of a scale and its degree\n",
    "def parse_chord(root, number_string):\n",
    "    note_num = chrom_notes.index(root)\n",
    "    out = \"\"\n",
    "    num = \"\"\n",
    "    scale_num = 0\n",
    "    parentheses = False\n",
    "    for char in number_string:\n",
    "        if char == '(':\n",
    "            parentheses = True\n",
    "        if char == 'b':\n",
    "            scale_num -= 1\n",
    "        if char == '#':\n",
    "            scale_num += 1\n",
    "        if char >= '0' and char <= '9':\n",
    "            num += char\n",
    "    scale_num += offsets.get(num)\n",
    "    if (parentheses):\n",
    "        out = \"(\"\n",
    "    out += str(get_note(note_num + scale_num))\n",
    "    if (parentheses):\n",
    "        out += \")\"\n",
    "    return out"
   ]
  },
  {
   "cell_type": "code",
   "execution_count": 141,
   "id": "f5ffb430",
   "metadata": {
    "scrolled": true
   },
   "outputs": [],
   "source": [
    "# Actually outputs the chord list (dict version)\n",
    "chord_list = []\n",
    "for note in chrom_notes:\n",
    "    f = open(\"../chords without names.txt\")\n",
    "    lines = f.readlines()\n",
    "    for line in lines:\n",
    "        parts = line.split()\n",
    "        chord_name = ''\n",
    "        note_list = []\n",
    "        for i in range(len(parts)):\n",
    "            part = parts[i]\n",
    "            if i == 0:\n",
    "                chord_name = part.replace('_', note, 1)\n",
    "            elif part[0] == 'b' or part[0] == '#' or \\\n",
    "               (part[0] >= '0' and part[0] <= '9') or \\\n",
    "               part[0] == '(':\n",
    "                note_list.append(parse_chord(note, part))\n",
    "            else: continue\n",
    "        chord_list.append([chord_name, note_list])"
   ]
  },
  {
   "cell_type": "code",
   "execution_count": 142,
   "id": "b07a556a",
   "metadata": {},
   "outputs": [],
   "source": [
    "song = pm.PrettyMIDI(\"C:\\\\Users\\\\TPNml\\\\Downloads\\\\Untitled score.mid\")\n",
    "# song = pm.PrettyMIDI(\"C:\\\\Users\\\\TPNml\\\\Downloads\\\\7-Strings Ensemble Staccato 7 test.mid\")\n",
    "# song = pm.PrettyMIDI(\"C:\\\\Users\\\\Tim\\\\Downloads\\\\jazz but without the piano chords.mid\")\n",
    "# song = pm.PrettyMIDI(\"C:\\\\Users\\\\Tim\\\\Downloads\\\\blind comp render E-PIANO ONLY_basic_pitch.mid\")"
   ]
  },
  {
   "cell_type": "code",
   "execution_count": 143,
   "id": "0bd35133",
   "metadata": {
    "scrolled": true
   },
   "outputs": [
    {
     "data": {
      "text/plain": [
       "[Instrument(program=52, is_drum=False, name=\"Men\")]"
      ]
     },
     "execution_count": 143,
     "metadata": {},
     "output_type": "execute_result"
    }
   ],
   "source": [
    "song.instruments"
   ]
  },
  {
   "cell_type": "code",
   "execution_count": 144,
   "id": "c9ffb4e7",
   "metadata": {},
   "outputs": [
    {
     "name": "stdout",
     "output_type": "stream",
     "text": [
      "Men\n",
      "Note C has a score of 1.259186\n",
      "Note E has a score of 1.259186\n",
      "Note F has a score of 1.259186\n",
      "Note G has a score of 1.259186\n",
      "Note Ab has a score of 1.259186\n",
      "The most common note is C\n",
      "------\n",
      "\n"
     ]
    }
   ],
   "source": [
    "for inst in song.instruments:\n",
    "    print(inst.name)\n",
    "    note_scores = []\n",
    "    note_scores_octave_agn = []\n",
    "    for i in range(0, 128):\n",
    "        note_scores.append(0)\n",
    "    for i in range(0, 12):\n",
    "        note_scores_octave_agn.append(0)\n",
    "    for note in inst.notes:\n",
    "        duration = note.end - note.start\n",
    "        score = duration * note.velocity / 127\n",
    "        # octave_multiplier = max(0, 1 - (max(0, (round(note.pitch % 12) - 3) / 8.0)))\n",
    "        # print(\"%d %f\" % (note.pitch, octave_multiplier))\n",
    "        octave_multiplier = 1\n",
    "        score *= octave_multiplier\n",
    "        note_scores[note.pitch] += score\n",
    "        note_scores_octave_agn[note.pitch % 12] += score\n",
    "    note_scores_dict = dict()\n",
    "    note_scores_octave_agn_dict = dict()\n",
    "    for i in range(0, 128):\n",
    "        if note_scores[i] != 0:\n",
    "            note_scores_dict[i] = note_scores[i]\n",
    "    for i in range(0, 12):\n",
    "        if note_scores_octave_agn[i] != 0:\n",
    "            note_scores_octave_agn_dict[i] = note_scores_octave_agn[i]\n",
    "    note_scores_sorted = sorted(note_scores_dict.items(), key=lambda x:x[1], reverse = True)\n",
    "    note_scores_dict = dict(note_scores_sorted)\n",
    "    note_scores_octave_agn_sorted = sorted(note_scores_octave_agn_dict.items(), key=lambda x:x[1], reverse = True)\n",
    "    for key in note_scores_octave_agn_dict.keys():\n",
    "        print(\"Note %s has a score of %f\" % (get_note(key), note_scores_octave_agn_dict[key]))\n",
    "    print(\"The most common note is %s\" % get_note(note_scores_octave_agn_sorted[0][0]))\n",
    "    print(\"------\")\n",
    "    print()"
   ]
  },
  {
   "cell_type": "code",
   "execution_count": 145,
   "id": "b24901df",
   "metadata": {},
   "outputs": [
    {
     "name": "stdout",
     "output_type": "stream",
     "text": [
      "The 20 highest-scoring chords are:\n",
      "1: Fm/M7 with a score of 6.295932\n",
      "2: Bb7#11 with a score of 5.695932\n",
      "3: AbM7b6 with a score of 5.395932\n",
      "4: CM7b6 with a score of 5.395932\n",
      "5: Csus4 with a score of 5.036745\n",
      "6: Fsus2 with a score of 5.036745\n",
      "7: AbaugM7 with a score of 5.036745\n",
      "8: C7sus4 with a score of 4.736745\n",
      "9: FM9 with a score of 4.736745\n",
      "10: Fm9 with a score of 4.736745\n",
      "11: G7sus4 with a score of 4.736745\n",
      "12: Cb9sus with a score of 4.436745\n",
      "13: Dm11 with a score of 4.436745\n",
      "14: Ebb9sus with a score of 4.436745\n",
      "15: F7#9 with a score of 4.436745\n",
      "16: Fm11 with a score of 4.436745\n",
      "17: Gb9sus with a score of 4.436745\n",
      "18: Bb13 with a score of 4.436745\n",
      "19: CM13 with a score of 4.136745\n",
      "20: DbM#4 with a score of 4.136745\n"
     ]
    }
   ],
   "source": [
    "chord_scores_dict = {}\n",
    "for chord_tuple in chord_list:\n",
    "    chord_name = chord_tuple[0]\n",
    "    chord_notes = chord_tuple[1]\n",
    "    chord_score = 0.0\n",
    "    for note in chord_notes:\n",
    "        multiplier = 1\n",
    "        actual_note = note\n",
    "        if note[0] == '(':\n",
    "            multiplier = 0.5\n",
    "            actual_note = note[1 : (len(note) - 1)]\n",
    "        note_val = chrom_notes.index(actual_note)\n",
    "        note_score = note_scores_octave_agn_dict.get(note_val, 0)\n",
    "        if note_score <= 0.1:\n",
    "            note_score = -0.3 # Deweight chords with missing notes\n",
    "        chord_score += note_score\n",
    "    if chord_score != 0.0:\n",
    "        chord_scores_dict[chord_name] = chord_score\n",
    "       \n",
    "chord_scores_dict_sorted = sorted(chord_scores_dict.items(), key=lambda x:x[1], reverse = True)\n",
    "\n",
    "print(\"The 20 highest-scoring chords are:\")\n",
    "for i in range(20):\n",
    "    print(\"%d: %s with a score of %f\" % ((i + 1), chord_scores_dict_sorted[i][0], chord_scores_dict_sorted[i][1]))"
   ]
  }
 ],
 "metadata": {
  "kernelspec": {
   "display_name": "Python 3 (ipykernel)",
   "language": "python",
   "name": "python3"
  },
  "language_info": {
   "codemirror_mode": {
    "name": "ipython",
    "version": 3
   },
   "file_extension": ".py",
   "mimetype": "text/x-python",
   "name": "python",
   "nbconvert_exporter": "python",
   "pygments_lexer": "ipython3",
   "version": "3.10.11"
  }
 },
 "nbformat": 4,
 "nbformat_minor": 5
}
