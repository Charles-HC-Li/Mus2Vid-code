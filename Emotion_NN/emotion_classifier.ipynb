{
 "cells": [
  {
   "attachments": {},
   "cell_type": "markdown",
   "metadata": {},
   "source": [
    "# Music emotion classifier"
   ]
  },
  {
   "attachments": {},
   "cell_type": "markdown",
   "metadata": {},
   "source": [
    "## Setup"
   ]
  },
  {
   "attachments": {},
   "cell_type": "markdown",
   "metadata": {},
   "source": []
  },
  {
   "attachments": {},
   "cell_type": "markdown",
   "metadata": {},
   "source": [
    "### Imports"
   ]
  },
  {
   "cell_type": "code",
   "execution_count": null,
   "metadata": {},
   "outputs": [],
   "source": [
    "import librosa\n",
    "import pandas as pd\n",
    "import numpy as np\n",
    "from sklearn import svm"
   ]
  },
  {
   "attachments": {},
   "cell_type": "markdown",
   "metadata": {},
   "source": [
    "### Constants"
   ]
  },
  {
   "cell_type": "code",
   "execution_count": null,
   "metadata": {},
   "outputs": [],
   "source": [
    "AUDIO_PATH = \"../data/processed/wav/\"\n",
    "ANNOTATIONS_PATH = \"../data/processed/annotations/annotations averaged per song/song_level/static_annotations_averaged_songs_1_2000.csv\""
   ]
  },
  {
   "attachments": {},
   "cell_type": "markdown",
   "metadata": {},
   "source": [
    "## Data preparation"
   ]
  },
  {
   "attachments": {},
   "cell_type": "markdown",
   "metadata": {},
   "source": [
    "### Data loading"
   ]
  },
  {
   "cell_type": "code",
   "execution_count": null,
   "metadata": {},
   "outputs": [],
   "source": [
    "dataframe = pd.read_csv(ANNOTATIONS_PATH)\n",
    "\n",
    "audio_clips = dataframe[\"song_id\"]\n",
    "targets = dataframe[[\"valence_mean\", \"arousal_mean\"]]\n",
    "\n",
    "print(audio_clips)\n",
    "print(targets['valence_mean'], targets['arousal_mean'])"
   ]
  },
  {
   "attachments": {},
   "cell_type": "markdown",
   "metadata": {},
   "source": [
    "### Data transformation"
   ]
  },
  {
   "attachments": {},
   "cell_type": "markdown",
   "metadata": {},
   "source": [
    "## Feature engineering"
   ]
  },
  {
   "attachments": {},
   "cell_type": "markdown",
   "metadata": {},
   "source": [
    "### Feature extraction"
   ]
  },
  {
   "attachments": {},
   "cell_type": "markdown",
   "metadata": {},
   "source": [
    "Librosa features (use this OR openSMILE)"
   ]
  },
  {
   "cell_type": "code",
   "execution_count": null,
   "metadata": {},
   "outputs": [],
   "source": [
    "features_list = []\n",
    "iter = 0\n",
    "\n",
    "for song_id in song_id_list:\n",
    "    if iter == 100:\n",
    "        break\n",
    "    iter += 1\n",
    "    waveform, sample_rate = librosa.load(AUDIO_PATH + f\"{song_id}.mp3\")\n",
    "\n",
    "    mfcc = librosa.feature.mfcc(y=waveform, sr=sample_rate)\n",
    "    rolloff = librosa.feature.spectral_rolloff(y=waveform,sr=sample_rate)\n",
    "    centroid = librosa.feature.spectral_centroid(y=waveform, sr=sample_rate)\n",
    "    rms = librosa.feature.rms(y=waveform)\n",
    "    tempo = librosa.feature.tempo(y=waveform,sr=sample_rate)\n",
    "    onset_env = librosa.onset.onset_strength(y=waveform, sr=sample_rate)\n",
    "    zcr = librosa.feature.zero_crossing_rate(waveform)\n",
    "    chromagram = librosa.feature.chroma_stft(y=waveform, sr=sample_rate)\n",
    "    pitches, magnitudes = librosa.piptrack(y=waveform, sr=sample_rate)\n",
    "    features_list.extend([mfcc, rolloff, centroid, rms, tempo, onset_env, zcr, chromagram, pitches, magnitudes])\n",
    "\n",
    "features = pd.DataFrame(\n",
    "    data=features_list,\n",
    "    columns=[\"mfcc\", \"rolloff\", \"centroid\", \"rms\", \"tempo\", \"onset_env\", \"zcr\", \"chromagram\", \"pitches\", \"magnitudes\"]\n",
    ")"
   ]
  },
  {
   "attachments": {},
   "cell_type": "markdown",
   "metadata": {},
   "source": [
    "openSMILE"
   ]
  },
  {
   "cell_type": "code",
   "execution_count": null,
   "metadata": {},
   "outputs": [],
   "source": [
    "def get_matched_smile(audio, targets):\n",
    "    smile = opensmile.Smile(\n",
    "        feature_set=opensmile.FeatureSet.emobase,\n",
    "        feature_level=opensmile.FeatureLevel.Functionals,\n",
    "    )\n",
    "    all_smiles = [] # list of smile features for each clip\n",
    "    iters = 0\n",
    "    for file in audio:\n",
    "        iters += 1\n",
    "        print(str(iters) + \"/\" + str(len(audio)))\n",
    "        \n",
    "        # get smile features\n",
    "        filepath = AUDIO_PATH + str(file) + \".wav\"\n",
    "        smile_feats = smile.process_file(filepath)\n",
    "        # convert from df to list\n",
    "        smile_feats = smile_feats.values.tolist()\n",
    "        # convert from 2d list to 1d list\n",
    "        smile_feats = sum(smile_feats, [])\n",
    "        all_smiles.append(smile_feats)\n",
    "\n",
    "    df = pd.DataFrame({'features': all_smiles, 'valence': targets['valence_mean'], 'arousal': targets['arousal_mean']})\n",
    "    \n",
    "    return df\n",
    "\n",
    "matched_smile_df = get_matched_smile(audio_clips[:10], targets[:10])\n",
    "\n",
    "# Optionally save the matched_midi_df DataFrame as a pickle file    \n",
    "# with lzma.open(\"matched_smile.xz\", \"wb\") as f:\n",
    "#     pickle.dump(matched_smile_df, f)"
   ]
  },
  {
   "attachments": {},
   "cell_type": "markdown",
   "metadata": {},
   "source": [
    "Import from pickle"
   ]
  },
  {
   "cell_type": "code",
   "execution_count": null,
   "metadata": {},
   "outputs": [],
   "source": [
    "with lzma.open('matched_smile.xz', 'rb') as f:\n",
    "    matched_smile_df = pickle.load(f)\n",
    "\n",
    "print(matched_smile_df.head())\n",
    "print(matched_smile_df.shape)"
   ]
  },
  {
   "attachments": {},
   "cell_type": "markdown",
   "metadata": {},
   "source": [
    "### Feature selection"
   ]
  },
  {
   "cell_type": "code",
   "execution_count": null,
   "metadata": {},
   "outputs": [],
   "source": [
    "from sklearn.feature_selection import SelectKBest\n",
    "from sklearn.feature_selection import f_regression"
   ]
  },
  {
   "cell_type": "code",
   "execution_count": null,
   "metadata": {},
   "outputs": [],
   "source": [
    "smile = opensmile.Smile(\n",
    "        feature_set=opensmile.FeatureSet.emobase,\n",
    "        feature_level=opensmile.FeatureLevel.Functionals,\n",
    "    )\n",
    "feature_names = smile.feature_names\n",
    "\n",
    "# Convert to numpy array of features\n",
    "smile_features = matched_smile_df['features']\n",
    "smile_features = np.stack(smile_features.values)\n",
    "# Convert to numpy array of labels\n",
    "valence_labels = matched_smile_df['valence']\n",
    "arousal_labels = matched_smile_df['arousal']\n",
    "\n",
    "selector = SelectKBest(score_func=f_regression, k=100) # Choose the 100 most effective features\n",
    "\n",
    "valence_fit = selector.fit(smile_features, valence_labels)\n",
    "valence_features = selector.transform(smile_features)\n",
    "print(selector.get_feature_names_out())\n",
    "\n",
    "arousal_fit = selector.fit(smile_features, arousal_labels)\n",
    "arousal_features = selector.transform(smile_features)\n",
    "print(selector.get_feature_names_out())\n",
    "\n",
    "print(arousal_features.shape, valence_features.shape)\n",
    "\n"
   ]
  },
  {
   "attachments": {},
   "cell_type": "markdown",
   "metadata": {},
   "source": [
    "## Model"
   ]
  },
  {
   "attachments": {},
   "cell_type": "markdown",
   "metadata": {},
   "source": [
    "### Definition"
   ]
  },
  {
   "cell_type": "code",
   "execution_count": null,
   "metadata": {},
   "outputs": [],
   "source": [
    "emotion_classifier = svm.SVC()\n",
    "emotion_classifier.fit(X, y)"
   ]
  },
  {
   "attachments": {},
   "cell_type": "markdown",
   "metadata": {},
   "source": [
    "### Training"
   ]
  },
  {
   "attachments": {},
   "cell_type": "markdown",
   "metadata": {},
   "source": []
  },
  {
   "attachments": {},
   "cell_type": "markdown",
   "metadata": {},
   "source": [
    "### Testing"
   ]
  },
  {
   "attachments": {},
   "cell_type": "markdown",
   "metadata": {},
   "source": [
    "### Validation"
   ]
  },
  {
   "attachments": {},
   "cell_type": "markdown",
   "metadata": {},
   "source": [
    "## Results"
   ]
  },
  {
   "attachments": {},
   "cell_type": "markdown",
   "metadata": {},
   "source": [
    "### Metrics"
   ]
  },
  {
   "attachments": {},
   "cell_type": "markdown",
   "metadata": {},
   "source": [
    "### Visualization"
   ]
  }
 ],
 "metadata": {
  "kernelspec": {
   "display_name": "Python 3 (ipykernel)",
   "language": "python",
   "name": "python3"
  },
  "language_info": {
   "codemirror_mode": {
    "name": "ipython",
    "version": 3
   },
   "file_extension": ".py",
   "mimetype": "text/x-python",
   "name": "python",
   "nbconvert_exporter": "python",
   "pygments_lexer": "ipython3",
   "version": "3.10.11"
  },
  "orig_nbformat": 4
 },
 "nbformat": 4,
 "nbformat_minor": 2
}
