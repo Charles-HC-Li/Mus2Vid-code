{
 "cells": [
  {
   "attachments": {},
   "cell_type": "markdown",
   "metadata": {},
   "source": [
    "# Music emotion classifier"
   ]
  },
  {
   "attachments": {},
   "cell_type": "markdown",
   "metadata": {},
   "source": [
    "## Setup"
   ]
  },
  {
   "cell_type": "code",
   "execution_count": null,
   "metadata": {},
   "outputs": [],
   "source": [
    "!pip install opensmile"
   ]
  },
  {
   "attachments": {},
   "cell_type": "markdown",
   "metadata": {},
   "source": [
    "### Imports"
   ]
  },
  {
   "cell_type": "code",
   "execution_count": 2,
   "metadata": {},
   "outputs": [],
   "source": [
    "import pandas as pd\n",
    "import librosa\n",
    "import opensmile"
   ]
  },
  {
   "attachments": {},
   "cell_type": "markdown",
   "metadata": {},
   "source": [
    "### Constants"
   ]
  },
  {
   "cell_type": "code",
   "execution_count": 5,
   "metadata": {},
   "outputs": [],
   "source": [
    "AUDIO_PATH = \"../data/processed/audio/\"\n",
    "ANNOTATIONS_PATH = \"../data/processed/annotations/annotations averaged per song/song_level/static_annotations_averaged_songs_1_2000.csv\""
   ]
  },
  {
   "attachments": {},
   "cell_type": "markdown",
   "metadata": {},
   "source": [
    "## Data preparation"
   ]
  },
  {
   "attachments": {},
   "cell_type": "markdown",
   "metadata": {},
   "source": [
    "### Data loading"
   ]
  },
  {
   "cell_type": "code",
   "execution_count": 33,
   "metadata": {},
   "outputs": [],
   "source": [
    "dataframe = pd.read_csv(ANNOTATIONS_PATH)\n",
    "\n",
    "song_id_list = dataframe[\"song_id\"]\n",
    "targets = dataframe[[\"valence_mean\", \"valence_std\", \"arousal_mean\", \"arousal_std\"]]"
   ]
  },
  {
   "attachments": {},
   "cell_type": "markdown",
   "metadata": {},
   "source": [
    "### Data transformation"
   ]
  },
  {
   "attachments": {},
   "cell_type": "markdown",
   "metadata": {},
   "source": [
    "## Feature engineering"
   ]
  },
  {
   "attachments": {},
   "cell_type": "markdown",
   "metadata": {},
   "source": [
    "### Feature extraction"
   ]
  },
  {
   "attachments": {},
   "cell_type": "markdown",
   "metadata": {},
   "source": [
    "Librosa features (use this OR openSMILE)"
   ]
  },
  {
   "cell_type": "code",
   "execution_count": 36,
   "metadata": {},
   "outputs": [],
   "source": [
    "features_list = []\n",
    "iter = 0\n",
    "\n",
    "for song_id in song_id_list:\n",
    "    if iter == 100:\n",
    "        break\n",
    "    iter += 1\n",
    "    waveform, sample_rate = librosa.load(AUDIO_PATH + f\"{song_id}.mp3\")\n",
    "\n",
    "    mfcc = librosa.feature.mfcc(y=waveform, sr=sample_rate)\n",
    "    rolloff = librosa.feature.spectral_rolloff(y=waveform,sr=sample_rate)\n",
    "    centroid = librosa.feature.spectral_centroid(y=waveform, sr=sample_rate)\n",
    "    rms = librosa.feature.rms(y=waveform)\n",
    "    tempo = librosa.feature.tempo(y=waveform,sr=sample_rate)\n",
    "    onset_env = librosa.onset.onset_strength(y=waveform, sr=sample_rate)\n",
    "    zcr = librosa.feature.zero_crossing_rate(waveform)\n",
    "    chromagram = librosa.feature.chroma_stft(y=waveform, sr=sample_rate)\n",
    "    pitches, magnitudes = librosa.piptrack(y=waveform, sr=sample_rate)\n",
    "    features_list.append([song_id, mfcc, rolloff, centroid, rms, tempo, onset_env, zcr, chromagram, pitches, magnitudes])\n",
    "\n",
    "features = pd.DataFrame(\n",
    "    data=features_list,\n",
    "    columns=[\"song_id\", \"mfcc\", \"rolloff\", \"centroid\", \"rms\", \"tempo\", \"onset_env\", \"zcr\", \"chromagram\", \"pitches\", \"magnitudes\"]\n",
    ")"
   ]
  },
  {
   "attachments": {},
   "cell_type": "markdown",
   "metadata": {},
   "source": [
    "openSMILE"
   ]
  },
  {
   "cell_type": "code",
   "execution_count": null,
   "metadata": {},
   "outputs": [],
   "source": [
    "import opensmile\n",
    "\n",
    "def get_matched_smile(audio, valence, arousal):\n",
    "    smile = opensmile.Smile(\n",
    "        feature_set=opensmile.FeatureSet.emobase,\n",
    "        feature_level=opensmile.FeatureLevel.Functionals,\n",
    "    )\n",
    "\n",
    "    all_smiles = [] # list of smile features for each clip\n",
    "    iters = 0\n",
    "    for file in audio:\n",
    "        iters += 1\n",
    "        print(str(iters) + \"/\" + str(len(audio)))\n",
    "        \n",
    "        smile_feats = smile.process_file('wav_clips/' + file)\n",
    "        all_smiles.append(smile_feats)\n",
    "\n",
    "    df = pd.DataFrame({'features': all_smiles, 'valence': valence, 'arousal': arousal})\n",
    "    \n",
    "    return df\n",
    "\n",
    "matched_smile_df = get_matched_smile(audio_clips, valence, arousal)\n",
    "\n",
    "# Optionally save the matched_midi_df DataFrame as a pickle file    \n",
    "with lzma.open(\"matched_smile.xz\", \"wb\") as f:\n",
    "    pickle.dump(matched_smile_df, f)"
   ]
  },
  {
   "attachments": {},
   "cell_type": "markdown",
   "metadata": {},
   "source": [
    "### Feature selection"
   ]
  },
  {
   "attachments": {},
   "cell_type": "markdown",
   "metadata": {},
   "source": [
    "## Model"
   ]
  },
  {
   "attachments": {},
   "cell_type": "markdown",
   "metadata": {},
   "source": [
    "### Training"
   ]
  },
  {
   "attachments": {},
   "cell_type": "markdown",
   "metadata": {},
   "source": [
    "### Testing"
   ]
  },
  {
   "attachments": {},
   "cell_type": "markdown",
   "metadata": {},
   "source": [
    "### Validation"
   ]
  },
  {
   "attachments": {},
   "cell_type": "markdown",
   "metadata": {},
   "source": [
    "## Results"
   ]
  },
  {
   "attachments": {},
   "cell_type": "markdown",
   "metadata": {},
   "source": [
    "### Metrics"
   ]
  },
  {
   "attachments": {},
   "cell_type": "markdown",
   "metadata": {},
   "source": [
    "### Visualization"
   ]
  }
 ],
 "metadata": {
  "kernelspec": {
   "display_name": "Python 3 (ipykernel)",
   "language": "python",
   "name": "python3"
  },
  "language_info": {
   "codemirror_mode": {
    "name": "ipython",
    "version": 3
   },
   "file_extension": ".py",
   "mimetype": "text/x-python",
   "name": "python",
   "nbconvert_exporter": "python",
   "pygments_lexer": "ipython3",
   "version": "3.11.3"
  },
  "orig_nbformat": 4
 },
 "nbformat": 4,
 "nbformat_minor": 2
}
