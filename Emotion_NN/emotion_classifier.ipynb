{
 "cells": [
  {
   "attachments": {},
   "cell_type": "markdown",
   "metadata": {},
   "source": [
    "# Music emotion classifier"
   ]
  },
  {
   "attachments": {},
   "cell_type": "markdown",
   "metadata": {},
   "source": [
    "## Setup"
   ]
  },
  {
   "cell_type": "code",
   "execution_count": null,
   "metadata": {},
   "outputs": [],
   "source": [
    "!pip install opensmile"
   ]
  },
  {
   "attachments": {},
   "cell_type": "markdown",
   "metadata": {},
   "source": [
    "### Imports"
   ]
  },
  {
   "cell_type": "code",
   "execution_count": 3,
   "metadata": {},
   "outputs": [],
   "source": [
    "import pandas as pd\n",
    "import numpy as np\n",
    "import librosa\n",
    "import opensmile\n",
    "import lzma, pickle"
   ]
  },
  {
   "attachments": {},
   "cell_type": "markdown",
   "metadata": {},
   "source": [
    "### Constants"
   ]
  },
  {
   "cell_type": "code",
   "execution_count": 4,
   "metadata": {},
   "outputs": [],
   "source": [
    "AUDIO_PATH = \"../data/processed/wav/\"\n",
    "ANNOTATIONS_PATH = \"../data/processed/annotations/annotations averaged per song/song_level/static_annotations_averaged_songs_1_2000.csv\""
   ]
  },
  {
   "attachments": {},
   "cell_type": "markdown",
   "metadata": {},
   "source": [
    "## Data preparation"
   ]
  },
  {
   "attachments": {},
   "cell_type": "markdown",
   "metadata": {},
   "source": [
    "### Data loading"
   ]
  },
  {
   "cell_type": "code",
   "execution_count": 5,
   "metadata": {},
   "outputs": [
    {
     "name": "stdout",
     "output_type": "stream",
     "text": [
      "0          2\n",
      "1          3\n",
      "2          4\n",
      "3          5\n",
      "4          7\n",
      "        ... \n",
      "1739    1996\n",
      "1740    1997\n",
      "1741    1998\n",
      "1742    1999\n",
      "1743    2000\n",
      "Name: song_id, Length: 1744, dtype: int64\n",
      "0       3.1\n",
      "1       3.5\n",
      "2       5.7\n",
      "3       4.4\n",
      "4       5.8\n",
      "       ... \n",
      "1739    3.9\n",
      "1740    5.3\n",
      "1741    6.4\n",
      "1742    4.6\n",
      "1743    5.8\n",
      "Name: valence_mean, Length: 1744, dtype: float64 0       3.0\n",
      "1       3.3\n",
      "2       5.5\n",
      "3       5.3\n",
      "4       6.4\n",
      "       ... \n",
      "1739    5.9\n",
      "1740    3.9\n",
      "1741    6.2\n",
      "1742    5.4\n",
      "1743    6.0\n",
      "Name: arousal_mean, Length: 1744, dtype: float64\n"
     ]
    }
   ],
   "source": [
    "dataframe = pd.read_csv(ANNOTATIONS_PATH)\n",
    "\n",
    "audio_clips = dataframe[\"song_id\"]\n",
    "targets = dataframe[[\"valence_mean\", \"arousal_mean\"]]\n",
    "\n",
    "print(audio_clips)\n",
    "print(targets['valence_mean'], targets['arousal_mean'])"
   ]
  },
  {
   "attachments": {},
   "cell_type": "markdown",
   "metadata": {},
   "source": [
    "### Data transformation"
   ]
  },
  {
   "attachments": {},
   "cell_type": "markdown",
   "metadata": {},
   "source": [
    "## Feature engineering"
   ]
  },
  {
   "attachments": {},
   "cell_type": "markdown",
   "metadata": {},
   "source": [
    "### Feature extraction"
   ]
  },
  {
   "attachments": {},
   "cell_type": "markdown",
   "metadata": {},
   "source": [
    "Librosa features (use this OR openSMILE)"
   ]
  },
  {
   "cell_type": "code",
   "execution_count": 36,
   "metadata": {},
   "outputs": [],
   "source": [
    "features_list = []\n",
    "iter = 0\n",
    "\n",
    "for song_id in song_id_list:\n",
    "    if iter == 100:\n",
    "        break\n",
    "    iter += 1\n",
    "    waveform, sample_rate = librosa.load(AUDIO_PATH + f\"{song_id}.mp3\")\n",
    "\n",
    "    mfcc = librosa.feature.mfcc(y=waveform, sr=sample_rate)\n",
    "    rolloff = librosa.feature.spectral_rolloff(y=waveform,sr=sample_rate)\n",
    "    centroid = librosa.feature.spectral_centroid(y=waveform, sr=sample_rate)\n",
    "    rms = librosa.feature.rms(y=waveform)\n",
    "    tempo = librosa.feature.tempo(y=waveform,sr=sample_rate)\n",
    "    onset_env = librosa.onset.onset_strength(y=waveform, sr=sample_rate)\n",
    "    zcr = librosa.feature.zero_crossing_rate(waveform)\n",
    "    chromagram = librosa.feature.chroma_stft(y=waveform, sr=sample_rate)\n",
    "    pitches, magnitudes = librosa.piptrack(y=waveform, sr=sample_rate)\n",
    "    features_list.append([song_id, mfcc, rolloff, centroid, rms, tempo, onset_env, zcr, chromagram, pitches, magnitudes])\n",
    "\n",
    "features = pd.DataFrame(\n",
    "    data=features_list,\n",
    "    columns=[\"song_id\", \"mfcc\", \"rolloff\", \"centroid\", \"rms\", \"tempo\", \"onset_env\", \"zcr\", \"chromagram\", \"pitches\", \"magnitudes\"]\n",
    ")"
   ]
  },
  {
   "attachments": {},
   "cell_type": "markdown",
   "metadata": {},
   "source": [
    "openSMILE"
   ]
  },
  {
   "cell_type": "code",
   "execution_count": 7,
   "metadata": {},
   "outputs": [
    {
     "name": "stdout",
     "output_type": "stream",
     "text": [
      "['pcm_intensity_sma_max', 'pcm_intensity_sma_min', 'pcm_intensity_sma_range', 'pcm_intensity_sma_maxPos', 'pcm_intensity_sma_minPos', 'pcm_intensity_sma_amean', 'pcm_intensity_sma_linregc1', 'pcm_intensity_sma_linregc2', 'pcm_intensity_sma_linregerrA', 'pcm_intensity_sma_linregerrQ', 'pcm_intensity_sma_stddev', 'pcm_intensity_sma_skewness', 'pcm_intensity_sma_kurtosis', 'pcm_intensity_sma_quartile1', 'pcm_intensity_sma_quartile2', 'pcm_intensity_sma_quartile3', 'pcm_intensity_sma_iqr1-2', 'pcm_intensity_sma_iqr2-3', 'pcm_intensity_sma_iqr1-3', 'pcm_loudness_sma_max', 'pcm_loudness_sma_min', 'pcm_loudness_sma_range', 'pcm_loudness_sma_maxPos', 'pcm_loudness_sma_minPos', 'pcm_loudness_sma_amean', 'pcm_loudness_sma_linregc1', 'pcm_loudness_sma_linregc2', 'pcm_loudness_sma_linregerrA', 'pcm_loudness_sma_linregerrQ', 'pcm_loudness_sma_stddev', 'pcm_loudness_sma_skewness', 'pcm_loudness_sma_kurtosis', 'pcm_loudness_sma_quartile1', 'pcm_loudness_sma_quartile2', 'pcm_loudness_sma_quartile3', 'pcm_loudness_sma_iqr1-2', 'pcm_loudness_sma_iqr2-3', 'pcm_loudness_sma_iqr1-3', 'mfcc_sma[1]_max', 'mfcc_sma[1]_min', 'mfcc_sma[1]_range', 'mfcc_sma[1]_maxPos', 'mfcc_sma[1]_minPos', 'mfcc_sma[1]_amean', 'mfcc_sma[1]_linregc1', 'mfcc_sma[1]_linregc2', 'mfcc_sma[1]_linregerrA', 'mfcc_sma[1]_linregerrQ', 'mfcc_sma[1]_stddev', 'mfcc_sma[1]_skewness', 'mfcc_sma[1]_kurtosis', 'mfcc_sma[1]_quartile1', 'mfcc_sma[1]_quartile2', 'mfcc_sma[1]_quartile3', 'mfcc_sma[1]_iqr1-2', 'mfcc_sma[1]_iqr2-3', 'mfcc_sma[1]_iqr1-3', 'mfcc_sma[2]_max', 'mfcc_sma[2]_min', 'mfcc_sma[2]_range', 'mfcc_sma[2]_maxPos', 'mfcc_sma[2]_minPos', 'mfcc_sma[2]_amean', 'mfcc_sma[2]_linregc1', 'mfcc_sma[2]_linregc2', 'mfcc_sma[2]_linregerrA', 'mfcc_sma[2]_linregerrQ', 'mfcc_sma[2]_stddev', 'mfcc_sma[2]_skewness', 'mfcc_sma[2]_kurtosis', 'mfcc_sma[2]_quartile1', 'mfcc_sma[2]_quartile2', 'mfcc_sma[2]_quartile3', 'mfcc_sma[2]_iqr1-2', 'mfcc_sma[2]_iqr2-3', 'mfcc_sma[2]_iqr1-3', 'mfcc_sma[3]_max', 'mfcc_sma[3]_min', 'mfcc_sma[3]_range', 'mfcc_sma[3]_maxPos', 'mfcc_sma[3]_minPos', 'mfcc_sma[3]_amean', 'mfcc_sma[3]_linregc1', 'mfcc_sma[3]_linregc2', 'mfcc_sma[3]_linregerrA', 'mfcc_sma[3]_linregerrQ', 'mfcc_sma[3]_stddev', 'mfcc_sma[3]_skewness', 'mfcc_sma[3]_kurtosis', 'mfcc_sma[3]_quartile1', 'mfcc_sma[3]_quartile2', 'mfcc_sma[3]_quartile3', 'mfcc_sma[3]_iqr1-2', 'mfcc_sma[3]_iqr2-3', 'mfcc_sma[3]_iqr1-3', 'mfcc_sma[4]_max', 'mfcc_sma[4]_min', 'mfcc_sma[4]_range', 'mfcc_sma[4]_maxPos', 'mfcc_sma[4]_minPos', 'mfcc_sma[4]_amean', 'mfcc_sma[4]_linregc1', 'mfcc_sma[4]_linregc2', 'mfcc_sma[4]_linregerrA', 'mfcc_sma[4]_linregerrQ', 'mfcc_sma[4]_stddev', 'mfcc_sma[4]_skewness', 'mfcc_sma[4]_kurtosis', 'mfcc_sma[4]_quartile1', 'mfcc_sma[4]_quartile2', 'mfcc_sma[4]_quartile3', 'mfcc_sma[4]_iqr1-2', 'mfcc_sma[4]_iqr2-3', 'mfcc_sma[4]_iqr1-3', 'mfcc_sma[5]_max', 'mfcc_sma[5]_min', 'mfcc_sma[5]_range', 'mfcc_sma[5]_maxPos', 'mfcc_sma[5]_minPos', 'mfcc_sma[5]_amean', 'mfcc_sma[5]_linregc1', 'mfcc_sma[5]_linregc2', 'mfcc_sma[5]_linregerrA', 'mfcc_sma[5]_linregerrQ', 'mfcc_sma[5]_stddev', 'mfcc_sma[5]_skewness', 'mfcc_sma[5]_kurtosis', 'mfcc_sma[5]_quartile1', 'mfcc_sma[5]_quartile2', 'mfcc_sma[5]_quartile3', 'mfcc_sma[5]_iqr1-2', 'mfcc_sma[5]_iqr2-3', 'mfcc_sma[5]_iqr1-3', 'mfcc_sma[6]_max', 'mfcc_sma[6]_min', 'mfcc_sma[6]_range', 'mfcc_sma[6]_maxPos', 'mfcc_sma[6]_minPos', 'mfcc_sma[6]_amean', 'mfcc_sma[6]_linregc1', 'mfcc_sma[6]_linregc2', 'mfcc_sma[6]_linregerrA', 'mfcc_sma[6]_linregerrQ', 'mfcc_sma[6]_stddev', 'mfcc_sma[6]_skewness', 'mfcc_sma[6]_kurtosis', 'mfcc_sma[6]_quartile1', 'mfcc_sma[6]_quartile2', 'mfcc_sma[6]_quartile3', 'mfcc_sma[6]_iqr1-2', 'mfcc_sma[6]_iqr2-3', 'mfcc_sma[6]_iqr1-3', 'mfcc_sma[7]_max', 'mfcc_sma[7]_min', 'mfcc_sma[7]_range', 'mfcc_sma[7]_maxPos', 'mfcc_sma[7]_minPos', 'mfcc_sma[7]_amean', 'mfcc_sma[7]_linregc1', 'mfcc_sma[7]_linregc2', 'mfcc_sma[7]_linregerrA', 'mfcc_sma[7]_linregerrQ', 'mfcc_sma[7]_stddev', 'mfcc_sma[7]_skewness', 'mfcc_sma[7]_kurtosis', 'mfcc_sma[7]_quartile1', 'mfcc_sma[7]_quartile2', 'mfcc_sma[7]_quartile3', 'mfcc_sma[7]_iqr1-2', 'mfcc_sma[7]_iqr2-3', 'mfcc_sma[7]_iqr1-3', 'mfcc_sma[8]_max', 'mfcc_sma[8]_min', 'mfcc_sma[8]_range', 'mfcc_sma[8]_maxPos', 'mfcc_sma[8]_minPos', 'mfcc_sma[8]_amean', 'mfcc_sma[8]_linregc1', 'mfcc_sma[8]_linregc2', 'mfcc_sma[8]_linregerrA', 'mfcc_sma[8]_linregerrQ', 'mfcc_sma[8]_stddev', 'mfcc_sma[8]_skewness', 'mfcc_sma[8]_kurtosis', 'mfcc_sma[8]_quartile1', 'mfcc_sma[8]_quartile2', 'mfcc_sma[8]_quartile3', 'mfcc_sma[8]_iqr1-2', 'mfcc_sma[8]_iqr2-3', 'mfcc_sma[8]_iqr1-3', 'mfcc_sma[9]_max', 'mfcc_sma[9]_min', 'mfcc_sma[9]_range', 'mfcc_sma[9]_maxPos', 'mfcc_sma[9]_minPos', 'mfcc_sma[9]_amean', 'mfcc_sma[9]_linregc1', 'mfcc_sma[9]_linregc2', 'mfcc_sma[9]_linregerrA', 'mfcc_sma[9]_linregerrQ', 'mfcc_sma[9]_stddev', 'mfcc_sma[9]_skewness', 'mfcc_sma[9]_kurtosis', 'mfcc_sma[9]_quartile1', 'mfcc_sma[9]_quartile2', 'mfcc_sma[9]_quartile3', 'mfcc_sma[9]_iqr1-2', 'mfcc_sma[9]_iqr2-3', 'mfcc_sma[9]_iqr1-3', 'mfcc_sma[10]_max', 'mfcc_sma[10]_min', 'mfcc_sma[10]_range', 'mfcc_sma[10]_maxPos', 'mfcc_sma[10]_minPos', 'mfcc_sma[10]_amean', 'mfcc_sma[10]_linregc1', 'mfcc_sma[10]_linregc2', 'mfcc_sma[10]_linregerrA', 'mfcc_sma[10]_linregerrQ', 'mfcc_sma[10]_stddev', 'mfcc_sma[10]_skewness', 'mfcc_sma[10]_kurtosis', 'mfcc_sma[10]_quartile1', 'mfcc_sma[10]_quartile2', 'mfcc_sma[10]_quartile3', 'mfcc_sma[10]_iqr1-2', 'mfcc_sma[10]_iqr2-3', 'mfcc_sma[10]_iqr1-3', 'mfcc_sma[11]_max', 'mfcc_sma[11]_min', 'mfcc_sma[11]_range', 'mfcc_sma[11]_maxPos', 'mfcc_sma[11]_minPos', 'mfcc_sma[11]_amean', 'mfcc_sma[11]_linregc1', 'mfcc_sma[11]_linregc2', 'mfcc_sma[11]_linregerrA', 'mfcc_sma[11]_linregerrQ', 'mfcc_sma[11]_stddev', 'mfcc_sma[11]_skewness', 'mfcc_sma[11]_kurtosis', 'mfcc_sma[11]_quartile1', 'mfcc_sma[11]_quartile2', 'mfcc_sma[11]_quartile3', 'mfcc_sma[11]_iqr1-2', 'mfcc_sma[11]_iqr2-3', 'mfcc_sma[11]_iqr1-3', 'mfcc_sma[12]_max', 'mfcc_sma[12]_min', 'mfcc_sma[12]_range', 'mfcc_sma[12]_maxPos', 'mfcc_sma[12]_minPos', 'mfcc_sma[12]_amean', 'mfcc_sma[12]_linregc1', 'mfcc_sma[12]_linregc2', 'mfcc_sma[12]_linregerrA', 'mfcc_sma[12]_linregerrQ', 'mfcc_sma[12]_stddev', 'mfcc_sma[12]_skewness', 'mfcc_sma[12]_kurtosis', 'mfcc_sma[12]_quartile1', 'mfcc_sma[12]_quartile2', 'mfcc_sma[12]_quartile3', 'mfcc_sma[12]_iqr1-2', 'mfcc_sma[12]_iqr2-3', 'mfcc_sma[12]_iqr1-3', 'lspFreq_sma[0]_max', 'lspFreq_sma[0]_min', 'lspFreq_sma[0]_range', 'lspFreq_sma[0]_maxPos', 'lspFreq_sma[0]_minPos', 'lspFreq_sma[0]_amean', 'lspFreq_sma[0]_linregc1', 'lspFreq_sma[0]_linregc2', 'lspFreq_sma[0]_linregerrA', 'lspFreq_sma[0]_linregerrQ', 'lspFreq_sma[0]_stddev', 'lspFreq_sma[0]_skewness', 'lspFreq_sma[0]_kurtosis', 'lspFreq_sma[0]_quartile1', 'lspFreq_sma[0]_quartile2', 'lspFreq_sma[0]_quartile3', 'lspFreq_sma[0]_iqr1-2', 'lspFreq_sma[0]_iqr2-3', 'lspFreq_sma[0]_iqr1-3', 'lspFreq_sma[1]_max', 'lspFreq_sma[1]_min', 'lspFreq_sma[1]_range', 'lspFreq_sma[1]_maxPos', 'lspFreq_sma[1]_minPos', 'lspFreq_sma[1]_amean', 'lspFreq_sma[1]_linregc1', 'lspFreq_sma[1]_linregc2', 'lspFreq_sma[1]_linregerrA', 'lspFreq_sma[1]_linregerrQ', 'lspFreq_sma[1]_stddev', 'lspFreq_sma[1]_skewness', 'lspFreq_sma[1]_kurtosis', 'lspFreq_sma[1]_quartile1', 'lspFreq_sma[1]_quartile2', 'lspFreq_sma[1]_quartile3', 'lspFreq_sma[1]_iqr1-2', 'lspFreq_sma[1]_iqr2-3', 'lspFreq_sma[1]_iqr1-3', 'lspFreq_sma[2]_max', 'lspFreq_sma[2]_min', 'lspFreq_sma[2]_range', 'lspFreq_sma[2]_maxPos', 'lspFreq_sma[2]_minPos', 'lspFreq_sma[2]_amean', 'lspFreq_sma[2]_linregc1', 'lspFreq_sma[2]_linregc2', 'lspFreq_sma[2]_linregerrA', 'lspFreq_sma[2]_linregerrQ', 'lspFreq_sma[2]_stddev', 'lspFreq_sma[2]_skewness', 'lspFreq_sma[2]_kurtosis', 'lspFreq_sma[2]_quartile1', 'lspFreq_sma[2]_quartile2', 'lspFreq_sma[2]_quartile3', 'lspFreq_sma[2]_iqr1-2', 'lspFreq_sma[2]_iqr2-3', 'lspFreq_sma[2]_iqr1-3', 'lspFreq_sma[3]_max', 'lspFreq_sma[3]_min', 'lspFreq_sma[3]_range', 'lspFreq_sma[3]_maxPos', 'lspFreq_sma[3]_minPos', 'lspFreq_sma[3]_amean', 'lspFreq_sma[3]_linregc1', 'lspFreq_sma[3]_linregc2', 'lspFreq_sma[3]_linregerrA', 'lspFreq_sma[3]_linregerrQ', 'lspFreq_sma[3]_stddev', 'lspFreq_sma[3]_skewness', 'lspFreq_sma[3]_kurtosis', 'lspFreq_sma[3]_quartile1', 'lspFreq_sma[3]_quartile2', 'lspFreq_sma[3]_quartile3', 'lspFreq_sma[3]_iqr1-2', 'lspFreq_sma[3]_iqr2-3', 'lspFreq_sma[3]_iqr1-3', 'lspFreq_sma[4]_max', 'lspFreq_sma[4]_min', 'lspFreq_sma[4]_range', 'lspFreq_sma[4]_maxPos', 'lspFreq_sma[4]_minPos', 'lspFreq_sma[4]_amean', 'lspFreq_sma[4]_linregc1', 'lspFreq_sma[4]_linregc2', 'lspFreq_sma[4]_linregerrA', 'lspFreq_sma[4]_linregerrQ', 'lspFreq_sma[4]_stddev', 'lspFreq_sma[4]_skewness', 'lspFreq_sma[4]_kurtosis', 'lspFreq_sma[4]_quartile1', 'lspFreq_sma[4]_quartile2', 'lspFreq_sma[4]_quartile3', 'lspFreq_sma[4]_iqr1-2', 'lspFreq_sma[4]_iqr2-3', 'lspFreq_sma[4]_iqr1-3', 'lspFreq_sma[5]_max', 'lspFreq_sma[5]_min', 'lspFreq_sma[5]_range', 'lspFreq_sma[5]_maxPos', 'lspFreq_sma[5]_minPos', 'lspFreq_sma[5]_amean', 'lspFreq_sma[5]_linregc1', 'lspFreq_sma[5]_linregc2', 'lspFreq_sma[5]_linregerrA', 'lspFreq_sma[5]_linregerrQ', 'lspFreq_sma[5]_stddev', 'lspFreq_sma[5]_skewness', 'lspFreq_sma[5]_kurtosis', 'lspFreq_sma[5]_quartile1', 'lspFreq_sma[5]_quartile2', 'lspFreq_sma[5]_quartile3', 'lspFreq_sma[5]_iqr1-2', 'lspFreq_sma[5]_iqr2-3', 'lspFreq_sma[5]_iqr1-3', 'lspFreq_sma[6]_max', 'lspFreq_sma[6]_min', 'lspFreq_sma[6]_range', 'lspFreq_sma[6]_maxPos', 'lspFreq_sma[6]_minPos', 'lspFreq_sma[6]_amean', 'lspFreq_sma[6]_linregc1', 'lspFreq_sma[6]_linregc2', 'lspFreq_sma[6]_linregerrA', 'lspFreq_sma[6]_linregerrQ', 'lspFreq_sma[6]_stddev', 'lspFreq_sma[6]_skewness', 'lspFreq_sma[6]_kurtosis', 'lspFreq_sma[6]_quartile1', 'lspFreq_sma[6]_quartile2', 'lspFreq_sma[6]_quartile3', 'lspFreq_sma[6]_iqr1-2', 'lspFreq_sma[6]_iqr2-3', 'lspFreq_sma[6]_iqr1-3', 'lspFreq_sma[7]_max', 'lspFreq_sma[7]_min', 'lspFreq_sma[7]_range', 'lspFreq_sma[7]_maxPos', 'lspFreq_sma[7]_minPos', 'lspFreq_sma[7]_amean', 'lspFreq_sma[7]_linregc1', 'lspFreq_sma[7]_linregc2', 'lspFreq_sma[7]_linregerrA', 'lspFreq_sma[7]_linregerrQ', 'lspFreq_sma[7]_stddev', 'lspFreq_sma[7]_skewness', 'lspFreq_sma[7]_kurtosis', 'lspFreq_sma[7]_quartile1', 'lspFreq_sma[7]_quartile2', 'lspFreq_sma[7]_quartile3', 'lspFreq_sma[7]_iqr1-2', 'lspFreq_sma[7]_iqr2-3', 'lspFreq_sma[7]_iqr1-3', 'pcm_zcr_sma_max', 'pcm_zcr_sma_min', 'pcm_zcr_sma_range', 'pcm_zcr_sma_maxPos', 'pcm_zcr_sma_minPos', 'pcm_zcr_sma_amean', 'pcm_zcr_sma_linregc1', 'pcm_zcr_sma_linregc2', 'pcm_zcr_sma_linregerrA', 'pcm_zcr_sma_linregerrQ', 'pcm_zcr_sma_stddev', 'pcm_zcr_sma_skewness', 'pcm_zcr_sma_kurtosis', 'pcm_zcr_sma_quartile1', 'pcm_zcr_sma_quartile2', 'pcm_zcr_sma_quartile3', 'pcm_zcr_sma_iqr1-2', 'pcm_zcr_sma_iqr2-3', 'pcm_zcr_sma_iqr1-3', 'voiceProb_sma_max', 'voiceProb_sma_min', 'voiceProb_sma_range', 'voiceProb_sma_maxPos', 'voiceProb_sma_minPos', 'voiceProb_sma_amean', 'voiceProb_sma_linregc1', 'voiceProb_sma_linregc2', 'voiceProb_sma_linregerrA', 'voiceProb_sma_linregerrQ', 'voiceProb_sma_stddev', 'voiceProb_sma_skewness', 'voiceProb_sma_kurtosis', 'voiceProb_sma_quartile1', 'voiceProb_sma_quartile2', 'voiceProb_sma_quartile3', 'voiceProb_sma_iqr1-2', 'voiceProb_sma_iqr2-3', 'voiceProb_sma_iqr1-3', 'F0_sma_max', 'F0_sma_min', 'F0_sma_range', 'F0_sma_maxPos', 'F0_sma_minPos', 'F0_sma_amean', 'F0_sma_linregc1', 'F0_sma_linregc2', 'F0_sma_linregerrA', 'F0_sma_linregerrQ', 'F0_sma_stddev', 'F0_sma_skewness', 'F0_sma_kurtosis', 'F0_sma_quartile1', 'F0_sma_quartile2', 'F0_sma_quartile3', 'F0_sma_iqr1-2', 'F0_sma_iqr2-3', 'F0_sma_iqr1-3', 'F0env_sma_max', 'F0env_sma_min', 'F0env_sma_range', 'F0env_sma_maxPos', 'F0env_sma_minPos', 'F0env_sma_amean', 'F0env_sma_linregc1', 'F0env_sma_linregc2', 'F0env_sma_linregerrA', 'F0env_sma_linregerrQ', 'F0env_sma_stddev', 'F0env_sma_skewness', 'F0env_sma_kurtosis', 'F0env_sma_quartile1', 'F0env_sma_quartile2', 'F0env_sma_quartile3', 'F0env_sma_iqr1-2', 'F0env_sma_iqr2-3', 'F0env_sma_iqr1-3', 'pcm_intensity_sma_de_max', 'pcm_intensity_sma_de_min', 'pcm_intensity_sma_de_range', 'pcm_intensity_sma_de_maxPos', 'pcm_intensity_sma_de_minPos', 'pcm_intensity_sma_de_amean', 'pcm_intensity_sma_de_linregc1', 'pcm_intensity_sma_de_linregc2', 'pcm_intensity_sma_de_linregerrA', 'pcm_intensity_sma_de_linregerrQ', 'pcm_intensity_sma_de_stddev', 'pcm_intensity_sma_de_skewness', 'pcm_intensity_sma_de_kurtosis', 'pcm_intensity_sma_de_quartile1', 'pcm_intensity_sma_de_quartile2', 'pcm_intensity_sma_de_quartile3', 'pcm_intensity_sma_de_iqr1-2', 'pcm_intensity_sma_de_iqr2-3', 'pcm_intensity_sma_de_iqr1-3', 'pcm_loudness_sma_de_max', 'pcm_loudness_sma_de_min', 'pcm_loudness_sma_de_range', 'pcm_loudness_sma_de_maxPos', 'pcm_loudness_sma_de_minPos', 'pcm_loudness_sma_de_amean', 'pcm_loudness_sma_de_linregc1', 'pcm_loudness_sma_de_linregc2', 'pcm_loudness_sma_de_linregerrA', 'pcm_loudness_sma_de_linregerrQ', 'pcm_loudness_sma_de_stddev', 'pcm_loudness_sma_de_skewness', 'pcm_loudness_sma_de_kurtosis', 'pcm_loudness_sma_de_quartile1', 'pcm_loudness_sma_de_quartile2', 'pcm_loudness_sma_de_quartile3', 'pcm_loudness_sma_de_iqr1-2', 'pcm_loudness_sma_de_iqr2-3', 'pcm_loudness_sma_de_iqr1-3', 'mfcc_sma_de[1]_max', 'mfcc_sma_de[1]_min', 'mfcc_sma_de[1]_range', 'mfcc_sma_de[1]_maxPos', 'mfcc_sma_de[1]_minPos', 'mfcc_sma_de[1]_amean', 'mfcc_sma_de[1]_linregc1', 'mfcc_sma_de[1]_linregc2', 'mfcc_sma_de[1]_linregerrA', 'mfcc_sma_de[1]_linregerrQ', 'mfcc_sma_de[1]_stddev', 'mfcc_sma_de[1]_skewness', 'mfcc_sma_de[1]_kurtosis', 'mfcc_sma_de[1]_quartile1', 'mfcc_sma_de[1]_quartile2', 'mfcc_sma_de[1]_quartile3', 'mfcc_sma_de[1]_iqr1-2', 'mfcc_sma_de[1]_iqr2-3', 'mfcc_sma_de[1]_iqr1-3', 'mfcc_sma_de[2]_max', 'mfcc_sma_de[2]_min', 'mfcc_sma_de[2]_range', 'mfcc_sma_de[2]_maxPos', 'mfcc_sma_de[2]_minPos', 'mfcc_sma_de[2]_amean', 'mfcc_sma_de[2]_linregc1', 'mfcc_sma_de[2]_linregc2', 'mfcc_sma_de[2]_linregerrA', 'mfcc_sma_de[2]_linregerrQ', 'mfcc_sma_de[2]_stddev', 'mfcc_sma_de[2]_skewness', 'mfcc_sma_de[2]_kurtosis', 'mfcc_sma_de[2]_quartile1', 'mfcc_sma_de[2]_quartile2', 'mfcc_sma_de[2]_quartile3', 'mfcc_sma_de[2]_iqr1-2', 'mfcc_sma_de[2]_iqr2-3', 'mfcc_sma_de[2]_iqr1-3', 'mfcc_sma_de[3]_max', 'mfcc_sma_de[3]_min', 'mfcc_sma_de[3]_range', 'mfcc_sma_de[3]_maxPos', 'mfcc_sma_de[3]_minPos', 'mfcc_sma_de[3]_amean', 'mfcc_sma_de[3]_linregc1', 'mfcc_sma_de[3]_linregc2', 'mfcc_sma_de[3]_linregerrA', 'mfcc_sma_de[3]_linregerrQ', 'mfcc_sma_de[3]_stddev', 'mfcc_sma_de[3]_skewness', 'mfcc_sma_de[3]_kurtosis', 'mfcc_sma_de[3]_quartile1', 'mfcc_sma_de[3]_quartile2', 'mfcc_sma_de[3]_quartile3', 'mfcc_sma_de[3]_iqr1-2', 'mfcc_sma_de[3]_iqr2-3', 'mfcc_sma_de[3]_iqr1-3', 'mfcc_sma_de[4]_max', 'mfcc_sma_de[4]_min', 'mfcc_sma_de[4]_range', 'mfcc_sma_de[4]_maxPos', 'mfcc_sma_de[4]_minPos', 'mfcc_sma_de[4]_amean', 'mfcc_sma_de[4]_linregc1', 'mfcc_sma_de[4]_linregc2', 'mfcc_sma_de[4]_linregerrA', 'mfcc_sma_de[4]_linregerrQ', 'mfcc_sma_de[4]_stddev', 'mfcc_sma_de[4]_skewness', 'mfcc_sma_de[4]_kurtosis', 'mfcc_sma_de[4]_quartile1', 'mfcc_sma_de[4]_quartile2', 'mfcc_sma_de[4]_quartile3', 'mfcc_sma_de[4]_iqr1-2', 'mfcc_sma_de[4]_iqr2-3', 'mfcc_sma_de[4]_iqr1-3', 'mfcc_sma_de[5]_max', 'mfcc_sma_de[5]_min', 'mfcc_sma_de[5]_range', 'mfcc_sma_de[5]_maxPos', 'mfcc_sma_de[5]_minPos', 'mfcc_sma_de[5]_amean', 'mfcc_sma_de[5]_linregc1', 'mfcc_sma_de[5]_linregc2', 'mfcc_sma_de[5]_linregerrA', 'mfcc_sma_de[5]_linregerrQ', 'mfcc_sma_de[5]_stddev', 'mfcc_sma_de[5]_skewness', 'mfcc_sma_de[5]_kurtosis', 'mfcc_sma_de[5]_quartile1', 'mfcc_sma_de[5]_quartile2', 'mfcc_sma_de[5]_quartile3', 'mfcc_sma_de[5]_iqr1-2', 'mfcc_sma_de[5]_iqr2-3', 'mfcc_sma_de[5]_iqr1-3', 'mfcc_sma_de[6]_max', 'mfcc_sma_de[6]_min', 'mfcc_sma_de[6]_range', 'mfcc_sma_de[6]_maxPos', 'mfcc_sma_de[6]_minPos', 'mfcc_sma_de[6]_amean', 'mfcc_sma_de[6]_linregc1', 'mfcc_sma_de[6]_linregc2', 'mfcc_sma_de[6]_linregerrA', 'mfcc_sma_de[6]_linregerrQ', 'mfcc_sma_de[6]_stddev', 'mfcc_sma_de[6]_skewness', 'mfcc_sma_de[6]_kurtosis', 'mfcc_sma_de[6]_quartile1', 'mfcc_sma_de[6]_quartile2', 'mfcc_sma_de[6]_quartile3', 'mfcc_sma_de[6]_iqr1-2', 'mfcc_sma_de[6]_iqr2-3', 'mfcc_sma_de[6]_iqr1-3', 'mfcc_sma_de[7]_max', 'mfcc_sma_de[7]_min', 'mfcc_sma_de[7]_range', 'mfcc_sma_de[7]_maxPos', 'mfcc_sma_de[7]_minPos', 'mfcc_sma_de[7]_amean', 'mfcc_sma_de[7]_linregc1', 'mfcc_sma_de[7]_linregc2', 'mfcc_sma_de[7]_linregerrA', 'mfcc_sma_de[7]_linregerrQ', 'mfcc_sma_de[7]_stddev', 'mfcc_sma_de[7]_skewness', 'mfcc_sma_de[7]_kurtosis', 'mfcc_sma_de[7]_quartile1', 'mfcc_sma_de[7]_quartile2', 'mfcc_sma_de[7]_quartile3', 'mfcc_sma_de[7]_iqr1-2', 'mfcc_sma_de[7]_iqr2-3', 'mfcc_sma_de[7]_iqr1-3', 'mfcc_sma_de[8]_max', 'mfcc_sma_de[8]_min', 'mfcc_sma_de[8]_range', 'mfcc_sma_de[8]_maxPos', 'mfcc_sma_de[8]_minPos', 'mfcc_sma_de[8]_amean', 'mfcc_sma_de[8]_linregc1', 'mfcc_sma_de[8]_linregc2', 'mfcc_sma_de[8]_linregerrA', 'mfcc_sma_de[8]_linregerrQ', 'mfcc_sma_de[8]_stddev', 'mfcc_sma_de[8]_skewness', 'mfcc_sma_de[8]_kurtosis', 'mfcc_sma_de[8]_quartile1', 'mfcc_sma_de[8]_quartile2', 'mfcc_sma_de[8]_quartile3', 'mfcc_sma_de[8]_iqr1-2', 'mfcc_sma_de[8]_iqr2-3', 'mfcc_sma_de[8]_iqr1-3', 'mfcc_sma_de[9]_max', 'mfcc_sma_de[9]_min', 'mfcc_sma_de[9]_range', 'mfcc_sma_de[9]_maxPos', 'mfcc_sma_de[9]_minPos', 'mfcc_sma_de[9]_amean', 'mfcc_sma_de[9]_linregc1', 'mfcc_sma_de[9]_linregc2', 'mfcc_sma_de[9]_linregerrA', 'mfcc_sma_de[9]_linregerrQ', 'mfcc_sma_de[9]_stddev', 'mfcc_sma_de[9]_skewness', 'mfcc_sma_de[9]_kurtosis', 'mfcc_sma_de[9]_quartile1', 'mfcc_sma_de[9]_quartile2', 'mfcc_sma_de[9]_quartile3', 'mfcc_sma_de[9]_iqr1-2', 'mfcc_sma_de[9]_iqr2-3', 'mfcc_sma_de[9]_iqr1-3', 'mfcc_sma_de[10]_max', 'mfcc_sma_de[10]_min', 'mfcc_sma_de[10]_range', 'mfcc_sma_de[10]_maxPos', 'mfcc_sma_de[10]_minPos', 'mfcc_sma_de[10]_amean', 'mfcc_sma_de[10]_linregc1', 'mfcc_sma_de[10]_linregc2', 'mfcc_sma_de[10]_linregerrA', 'mfcc_sma_de[10]_linregerrQ', 'mfcc_sma_de[10]_stddev', 'mfcc_sma_de[10]_skewness', 'mfcc_sma_de[10]_kurtosis', 'mfcc_sma_de[10]_quartile1', 'mfcc_sma_de[10]_quartile2', 'mfcc_sma_de[10]_quartile3', 'mfcc_sma_de[10]_iqr1-2', 'mfcc_sma_de[10]_iqr2-3', 'mfcc_sma_de[10]_iqr1-3', 'mfcc_sma_de[11]_max', 'mfcc_sma_de[11]_min', 'mfcc_sma_de[11]_range', 'mfcc_sma_de[11]_maxPos', 'mfcc_sma_de[11]_minPos', 'mfcc_sma_de[11]_amean', 'mfcc_sma_de[11]_linregc1', 'mfcc_sma_de[11]_linregc2', 'mfcc_sma_de[11]_linregerrA', 'mfcc_sma_de[11]_linregerrQ', 'mfcc_sma_de[11]_stddev', 'mfcc_sma_de[11]_skewness', 'mfcc_sma_de[11]_kurtosis', 'mfcc_sma_de[11]_quartile1', 'mfcc_sma_de[11]_quartile2', 'mfcc_sma_de[11]_quartile3', 'mfcc_sma_de[11]_iqr1-2', 'mfcc_sma_de[11]_iqr2-3', 'mfcc_sma_de[11]_iqr1-3', 'mfcc_sma_de[12]_max', 'mfcc_sma_de[12]_min', 'mfcc_sma_de[12]_range', 'mfcc_sma_de[12]_maxPos', 'mfcc_sma_de[12]_minPos', 'mfcc_sma_de[12]_amean', 'mfcc_sma_de[12]_linregc1', 'mfcc_sma_de[12]_linregc2', 'mfcc_sma_de[12]_linregerrA', 'mfcc_sma_de[12]_linregerrQ', 'mfcc_sma_de[12]_stddev', 'mfcc_sma_de[12]_skewness', 'mfcc_sma_de[12]_kurtosis', 'mfcc_sma_de[12]_quartile1', 'mfcc_sma_de[12]_quartile2', 'mfcc_sma_de[12]_quartile3', 'mfcc_sma_de[12]_iqr1-2', 'mfcc_sma_de[12]_iqr2-3', 'mfcc_sma_de[12]_iqr1-3', 'lspFreq_sma_de[0]_max', 'lspFreq_sma_de[0]_min', 'lspFreq_sma_de[0]_range', 'lspFreq_sma_de[0]_maxPos', 'lspFreq_sma_de[0]_minPos', 'lspFreq_sma_de[0]_amean', 'lspFreq_sma_de[0]_linregc1', 'lspFreq_sma_de[0]_linregc2', 'lspFreq_sma_de[0]_linregerrA', 'lspFreq_sma_de[0]_linregerrQ', 'lspFreq_sma_de[0]_stddev', 'lspFreq_sma_de[0]_skewness', 'lspFreq_sma_de[0]_kurtosis', 'lspFreq_sma_de[0]_quartile1', 'lspFreq_sma_de[0]_quartile2', 'lspFreq_sma_de[0]_quartile3', 'lspFreq_sma_de[0]_iqr1-2', 'lspFreq_sma_de[0]_iqr2-3', 'lspFreq_sma_de[0]_iqr1-3', 'lspFreq_sma_de[1]_max', 'lspFreq_sma_de[1]_min', 'lspFreq_sma_de[1]_range', 'lspFreq_sma_de[1]_maxPos', 'lspFreq_sma_de[1]_minPos', 'lspFreq_sma_de[1]_amean', 'lspFreq_sma_de[1]_linregc1', 'lspFreq_sma_de[1]_linregc2', 'lspFreq_sma_de[1]_linregerrA', 'lspFreq_sma_de[1]_linregerrQ', 'lspFreq_sma_de[1]_stddev', 'lspFreq_sma_de[1]_skewness', 'lspFreq_sma_de[1]_kurtosis', 'lspFreq_sma_de[1]_quartile1', 'lspFreq_sma_de[1]_quartile2', 'lspFreq_sma_de[1]_quartile3', 'lspFreq_sma_de[1]_iqr1-2', 'lspFreq_sma_de[1]_iqr2-3', 'lspFreq_sma_de[1]_iqr1-3', 'lspFreq_sma_de[2]_max', 'lspFreq_sma_de[2]_min', 'lspFreq_sma_de[2]_range', 'lspFreq_sma_de[2]_maxPos', 'lspFreq_sma_de[2]_minPos', 'lspFreq_sma_de[2]_amean', 'lspFreq_sma_de[2]_linregc1', 'lspFreq_sma_de[2]_linregc2', 'lspFreq_sma_de[2]_linregerrA', 'lspFreq_sma_de[2]_linregerrQ', 'lspFreq_sma_de[2]_stddev', 'lspFreq_sma_de[2]_skewness', 'lspFreq_sma_de[2]_kurtosis', 'lspFreq_sma_de[2]_quartile1', 'lspFreq_sma_de[2]_quartile2', 'lspFreq_sma_de[2]_quartile3', 'lspFreq_sma_de[2]_iqr1-2', 'lspFreq_sma_de[2]_iqr2-3', 'lspFreq_sma_de[2]_iqr1-3', 'lspFreq_sma_de[3]_max', 'lspFreq_sma_de[3]_min', 'lspFreq_sma_de[3]_range', 'lspFreq_sma_de[3]_maxPos', 'lspFreq_sma_de[3]_minPos', 'lspFreq_sma_de[3]_amean', 'lspFreq_sma_de[3]_linregc1', 'lspFreq_sma_de[3]_linregc2', 'lspFreq_sma_de[3]_linregerrA', 'lspFreq_sma_de[3]_linregerrQ', 'lspFreq_sma_de[3]_stddev', 'lspFreq_sma_de[3]_skewness', 'lspFreq_sma_de[3]_kurtosis', 'lspFreq_sma_de[3]_quartile1', 'lspFreq_sma_de[3]_quartile2', 'lspFreq_sma_de[3]_quartile3', 'lspFreq_sma_de[3]_iqr1-2', 'lspFreq_sma_de[3]_iqr2-3', 'lspFreq_sma_de[3]_iqr1-3', 'lspFreq_sma_de[4]_max', 'lspFreq_sma_de[4]_min', 'lspFreq_sma_de[4]_range', 'lspFreq_sma_de[4]_maxPos', 'lspFreq_sma_de[4]_minPos', 'lspFreq_sma_de[4]_amean', 'lspFreq_sma_de[4]_linregc1', 'lspFreq_sma_de[4]_linregc2', 'lspFreq_sma_de[4]_linregerrA', 'lspFreq_sma_de[4]_linregerrQ', 'lspFreq_sma_de[4]_stddev', 'lspFreq_sma_de[4]_skewness', 'lspFreq_sma_de[4]_kurtosis', 'lspFreq_sma_de[4]_quartile1', 'lspFreq_sma_de[4]_quartile2', 'lspFreq_sma_de[4]_quartile3', 'lspFreq_sma_de[4]_iqr1-2', 'lspFreq_sma_de[4]_iqr2-3', 'lspFreq_sma_de[4]_iqr1-3', 'lspFreq_sma_de[5]_max', 'lspFreq_sma_de[5]_min', 'lspFreq_sma_de[5]_range', 'lspFreq_sma_de[5]_maxPos', 'lspFreq_sma_de[5]_minPos', 'lspFreq_sma_de[5]_amean', 'lspFreq_sma_de[5]_linregc1', 'lspFreq_sma_de[5]_linregc2', 'lspFreq_sma_de[5]_linregerrA', 'lspFreq_sma_de[5]_linregerrQ', 'lspFreq_sma_de[5]_stddev', 'lspFreq_sma_de[5]_skewness', 'lspFreq_sma_de[5]_kurtosis', 'lspFreq_sma_de[5]_quartile1', 'lspFreq_sma_de[5]_quartile2', 'lspFreq_sma_de[5]_quartile3', 'lspFreq_sma_de[5]_iqr1-2', 'lspFreq_sma_de[5]_iqr2-3', 'lspFreq_sma_de[5]_iqr1-3', 'lspFreq_sma_de[6]_max', 'lspFreq_sma_de[6]_min', 'lspFreq_sma_de[6]_range', 'lspFreq_sma_de[6]_maxPos', 'lspFreq_sma_de[6]_minPos', 'lspFreq_sma_de[6]_amean', 'lspFreq_sma_de[6]_linregc1', 'lspFreq_sma_de[6]_linregc2', 'lspFreq_sma_de[6]_linregerrA', 'lspFreq_sma_de[6]_linregerrQ', 'lspFreq_sma_de[6]_stddev', 'lspFreq_sma_de[6]_skewness', 'lspFreq_sma_de[6]_kurtosis', 'lspFreq_sma_de[6]_quartile1', 'lspFreq_sma_de[6]_quartile2', 'lspFreq_sma_de[6]_quartile3', 'lspFreq_sma_de[6]_iqr1-2', 'lspFreq_sma_de[6]_iqr2-3', 'lspFreq_sma_de[6]_iqr1-3', 'lspFreq_sma_de[7]_max', 'lspFreq_sma_de[7]_min', 'lspFreq_sma_de[7]_range', 'lspFreq_sma_de[7]_maxPos', 'lspFreq_sma_de[7]_minPos', 'lspFreq_sma_de[7]_amean', 'lspFreq_sma_de[7]_linregc1', 'lspFreq_sma_de[7]_linregc2', 'lspFreq_sma_de[7]_linregerrA', 'lspFreq_sma_de[7]_linregerrQ', 'lspFreq_sma_de[7]_stddev', 'lspFreq_sma_de[7]_skewness', 'lspFreq_sma_de[7]_kurtosis', 'lspFreq_sma_de[7]_quartile1', 'lspFreq_sma_de[7]_quartile2', 'lspFreq_sma_de[7]_quartile3', 'lspFreq_sma_de[7]_iqr1-2', 'lspFreq_sma_de[7]_iqr2-3', 'lspFreq_sma_de[7]_iqr1-3', 'pcm_zcr_sma_de_max', 'pcm_zcr_sma_de_min', 'pcm_zcr_sma_de_range', 'pcm_zcr_sma_de_maxPos', 'pcm_zcr_sma_de_minPos', 'pcm_zcr_sma_de_amean', 'pcm_zcr_sma_de_linregc1', 'pcm_zcr_sma_de_linregc2', 'pcm_zcr_sma_de_linregerrA', 'pcm_zcr_sma_de_linregerrQ', 'pcm_zcr_sma_de_stddev', 'pcm_zcr_sma_de_skewness', 'pcm_zcr_sma_de_kurtosis', 'pcm_zcr_sma_de_quartile1', 'pcm_zcr_sma_de_quartile2', 'pcm_zcr_sma_de_quartile3', 'pcm_zcr_sma_de_iqr1-2', 'pcm_zcr_sma_de_iqr2-3', 'pcm_zcr_sma_de_iqr1-3', 'voiceProb_sma_de_max', 'voiceProb_sma_de_min', 'voiceProb_sma_de_range', 'voiceProb_sma_de_maxPos', 'voiceProb_sma_de_minPos', 'voiceProb_sma_de_amean', 'voiceProb_sma_de_linregc1', 'voiceProb_sma_de_linregc2', 'voiceProb_sma_de_linregerrA', 'voiceProb_sma_de_linregerrQ', 'voiceProb_sma_de_stddev', 'voiceProb_sma_de_skewness', 'voiceProb_sma_de_kurtosis', 'voiceProb_sma_de_quartile1', 'voiceProb_sma_de_quartile2', 'voiceProb_sma_de_quartile3', 'voiceProb_sma_de_iqr1-2', 'voiceProb_sma_de_iqr2-3', 'voiceProb_sma_de_iqr1-3', 'F0_sma_de_max', 'F0_sma_de_min', 'F0_sma_de_range', 'F0_sma_de_maxPos', 'F0_sma_de_minPos', 'F0_sma_de_amean', 'F0_sma_de_linregc1', 'F0_sma_de_linregc2', 'F0_sma_de_linregerrA', 'F0_sma_de_linregerrQ', 'F0_sma_de_stddev', 'F0_sma_de_skewness', 'F0_sma_de_kurtosis', 'F0_sma_de_quartile1', 'F0_sma_de_quartile2', 'F0_sma_de_quartile3', 'F0_sma_de_iqr1-2', 'F0_sma_de_iqr2-3', 'F0_sma_de_iqr1-3', 'F0env_sma_de_max', 'F0env_sma_de_min', 'F0env_sma_de_range', 'F0env_sma_de_maxPos', 'F0env_sma_de_minPos', 'F0env_sma_de_amean', 'F0env_sma_de_linregc1', 'F0env_sma_de_linregc2', 'F0env_sma_de_linregerrA', 'F0env_sma_de_linregerrQ', 'F0env_sma_de_stddev', 'F0env_sma_de_skewness', 'F0env_sma_de_kurtosis', 'F0env_sma_de_quartile1', 'F0env_sma_de_quartile2', 'F0env_sma_de_quartile3', 'F0env_sma_de_iqr1-2', 'F0env_sma_de_iqr2-3', 'F0env_sma_de_iqr1-3']\n",
      "1/10\n",
      "2/10\n",
      "3/10\n",
      "4/10\n",
      "5/10\n",
      "6/10\n",
      "7/10\n",
      "8/10\n",
      "9/10\n",
      "10/10\n"
     ]
    }
   ],
   "source": [
    "def get_matched_smile(audio, targets):\n",
    "    smile = opensmile.Smile(\n",
    "        feature_set=opensmile.FeatureSet.emobase,\n",
    "        feature_level=opensmile.FeatureLevel.Functionals,\n",
    "    )\n",
    "    all_smiles = [] # list of smile features for each clip\n",
    "    iters = 0\n",
    "    for file in audio:\n",
    "        iters += 1\n",
    "        print(str(iters) + \"/\" + str(len(audio)))\n",
    "        \n",
    "        # get smile features\n",
    "        filepath = AUDIO_PATH + str(file) + \".wav\"\n",
    "        smile_feats = smile.process_file(filepath)\n",
    "        # convert from df to list\n",
    "        smile_feats = smile_feats.values.tolist()\n",
    "        # convert from 2d list to 1d list\n",
    "        smile_feats = sum(smile_feats, [])\n",
    "        all_smiles.append(smile_feats)\n",
    "\n",
    "    df = pd.DataFrame({'features': all_smiles, 'valence': targets['valence_mean'], 'arousal': targets['arousal_mean']})\n",
    "    \n",
    "    return df\n",
    "\n",
    "matched_smile_df = get_matched_smile(audio_clips[:10], targets[:10])\n",
    "\n",
    "# Optionally save the matched_midi_df DataFrame as a pickle file    \n",
    "# with lzma.open(\"matched_smile.xz\", \"wb\") as f:\n",
    "#     pickle.dump(matched_smile_df, f)"
   ]
  },
  {
   "attachments": {},
   "cell_type": "markdown",
   "metadata": {},
   "source": [
    "Import from pickle"
   ]
  },
  {
   "cell_type": "code",
   "execution_count": 5,
   "metadata": {},
   "outputs": [
    {
     "name": "stdout",
     "output_type": "stream",
     "text": [
      "                                            features  valence  arousal\n",
      "0  [9.9690914794337e-05, 0.0, 9.9690914794337e-05...      3.1      3.0\n",
      "1  [5.123164737597108e-05, 0.0, 5.123164737597108...      3.5      3.3\n",
      "2  [8.819365757517517e-05, 0.0, 8.819365757517517...      5.7      5.5\n",
      "3  [5.9923360822722316e-05, 0.0, 5.99233608227223...      4.4      5.3\n",
      "4  [0.00011262285988777876, 0.0, 0.00011262285988...      5.8      6.4\n",
      "(1744, 3)\n"
     ]
    }
   ],
   "source": [
    "with lzma.open('matched_smile.xz', 'rb') as f:\n",
    "    matched_smile_df = pickle.load(f)\n",
    "\n",
    "print(matched_smile_df.head())\n",
    "print(matched_smile_df.shape)"
   ]
  },
  {
   "attachments": {},
   "cell_type": "markdown",
   "metadata": {},
   "source": [
    "### Feature selection"
   ]
  },
  {
   "cell_type": "code",
   "execution_count": 42,
   "metadata": {},
   "outputs": [],
   "source": [
    "from sklearn.feature_selection import SelectKBest\n",
    "from sklearn.feature_selection import f_regression"
   ]
  },
  {
   "cell_type": "code",
   "execution_count": 54,
   "metadata": {},
   "outputs": [
    {
     "name": "stdout",
     "output_type": "stream",
     "text": [
      "['x3' 'x5' 'x7' 'x8' 'x9' 'x10' 'x11' 'x13' 'x14' 'x15' 'x16' 'x17' 'x18'\n",
      " 'x24' 'x26' 'x27' 'x28' 'x29' 'x30' 'x32' 'x33' 'x34' 'x35' 'x36' 'x37'\n",
      " 'x42' 'x49' 'x51' 'x78' 'x106' 'x111' 'x114' 'x133' 'x135' 'x168' 'x169'\n",
      " 'x170' 'x191' 'x198' 'x199' 'x200' 'x206' 'x207' 'x208' 'x262' 'x315'\n",
      " 'x335' 'x339' 'x341' 'x353' 'x365' 'x387' 'x391' 'x394' 'x395' 'x498'\n",
      " 'x500' 'x501' 'x502' 'x503' 'x504' 'x507' 'x508' 'x509' 'x510' 'x511'\n",
      " 'x512' 'x513' 'x519' 'x520' 'x521' 'x522' 'x523' 'x526' 'x527' 'x528'\n",
      " 'x529' 'x530' 'x531' 'x647' 'x648' 'x676' 'x706' 'x773' 'x775' 'x776'\n",
      " 'x777' 'x778' 'x799' 'x820' 'x863' 'x864' 'x865' 'x868' 'x906' 'x909'\n",
      " 'x910' 'x911' 'x942' 'x975']\n",
      "['x3' 'x5' 'x7' 'x8' 'x9' 'x10' 'x11' 'x12' 'x13' 'x14' 'x15' 'x16' 'x17'\n",
      " 'x18' 'x22' 'x24' 'x26' 'x27' 'x28' 'x29' 'x30' 'x31' 'x32' 'x33' 'x34'\n",
      " 'x35' 'x36' 'x37' 'x42' 'x49' 'x76' 'x111' 'x114' 'x133' 'x176' 'x185'\n",
      " 'x186' 'x206' 'x296' 'x315' 'x318' 'x327' 'x365' 'x391' 'x437' 'x439'\n",
      " 'x498' 'x499' 'x501' 'x502' 'x503' 'x504' 'x506' 'x507' 'x509' 'x510'\n",
      " 'x511' 'x512' 'x518' 'x520' 'x521' 'x522' 'x523' 'x525' 'x526' 'x528'\n",
      " 'x529' 'x530' 'x531' 'x548' 'x608' 'x611' 'x614' 'x615' 'x619' 'x672'\n",
      " 'x679' 'x706' 'x752' 'x755' 'x773' 'x775' 'x776' 'x777' 'x778' 'x799'\n",
      " 'x818' 'x820' 'x837' 'x897' 'x906' 'x909' 'x910' 'x911' 'x932' 'x939'\n",
      " 'x940' 'x941' 'x943' 'x962']\n",
      "(10, 100) (10, 100)\n"
     ]
    }
   ],
   "source": [
    "smile = opensmile.Smile(\n",
    "        feature_set=opensmile.FeatureSet.emobase,\n",
    "        feature_level=opensmile.FeatureLevel.Functionals,\n",
    "    )\n",
    "feature_names = smile.feature_names\n",
    "\n",
    "# Convert to numpy array of features\n",
    "smile_features = matched_smile_df['features']\n",
    "smile_features = np.stack(smile_features.values)\n",
    "# Convert to numpy array of labels\n",
    "valence_labels = matched_smile_df['valence']\n",
    "arousal_labels = matched_smile_df['arousal']\n",
    "\n",
    "selector = SelectKBest(score_func=f_regression, k=100) # Choose the 100 most effective features\n",
    "\n",
    "valence_fit = selector.fit(smile_features, valence_labels)\n",
    "valence_features = selector.transform(smile_features)\n",
    "print(selector.get_feature_names_out())\n",
    "\n",
    "arousal_fit = selector.fit(smile_features, arousal_labels)\n",
    "arousal_features = selector.transform(smile_features)\n",
    "print(selector.get_feature_names_out())\n",
    "\n",
    "print(arousal_features.shape, valence_features.shape)\n",
    "\n"
   ]
  },
  {
   "attachments": {},
   "cell_type": "markdown",
   "metadata": {},
   "source": [
    "## Model"
   ]
  },
  {
   "attachments": {},
   "cell_type": "markdown",
   "metadata": {},
   "source": [
    "### Training"
   ]
  },
  {
   "attachments": {},
   "cell_type": "markdown",
   "metadata": {},
   "source": [
    "### Testing"
   ]
  },
  {
   "attachments": {},
   "cell_type": "markdown",
   "metadata": {},
   "source": [
    "### Validation"
   ]
  },
  {
   "attachments": {},
   "cell_type": "markdown",
   "metadata": {},
   "source": [
    "## Results"
   ]
  },
  {
   "attachments": {},
   "cell_type": "markdown",
   "metadata": {},
   "source": [
    "### Metrics"
   ]
  },
  {
   "attachments": {},
   "cell_type": "markdown",
   "metadata": {},
   "source": [
    "### Visualization"
   ]
  }
 ],
 "metadata": {
  "kernelspec": {
   "display_name": "Python 3 (ipykernel)",
   "language": "python",
   "name": "python3"
  },
  "language_info": {
   "codemirror_mode": {
    "name": "ipython",
    "version": 3
   },
   "file_extension": ".py",
   "mimetype": "text/x-python",
   "name": "python",
   "nbconvert_exporter": "python",
   "pygments_lexer": "ipython3",
   "version": "3.10.11"
  },
  "orig_nbformat": 4
 },
 "nbformat": 4,
 "nbformat_minor": 2
}
