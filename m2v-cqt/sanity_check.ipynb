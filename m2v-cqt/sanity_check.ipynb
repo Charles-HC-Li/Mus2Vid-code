{
 "cells": [
  {
   "cell_type": "code",
   "execution_count": 1,
   "metadata": {},
   "outputs": [
    {
     "name": "stdout",
     "output_type": "stream",
     "text": [
      "Regular dataset length: 1622\n"
     ]
    }
   ],
   "source": [
    "import torch\n",
    "import numpy as np\n",
    "from dataset_classes.DEAM_CQT_annot_only import *\n",
    "\n",
    "annot_path = \"deam_dataset/DEAM_Annotations/annotations/annotations averaged per song/dynamic (per second annotations)/arousal.csv\"\n",
    "audio_path = \"deam_dataset/DEAM_audio/MEMD_audio/\"\n",
    "transform_path = \"transforms/\"\n",
    "transform_name = \"testing\"\n",
    "train_dataset = DEAM_CQT_Dataset_Annotations_Only(annot_path=annot_path, audio_path=audio_path, save_files=True, transform_path=transform_path, transform_name=transform_name, train=True)\n",
    "L = train_dataset.__len__()\n",
    "train_loader = torch.utils.data.DataLoader(dataset=train_dataset, batch_size=L, shuffle=True)\n",
    "print(\"Regular dataset length:\", L)"
   ]
  },
  {
   "cell_type": "code",
   "execution_count": 16,
   "metadata": {},
   "outputs": [
    {
     "name": "stdout",
     "output_type": "stream",
     "text": [
      "Mean vector:  tensor([0.1409, 0.1419, 0.1427, 0.1433, 0.1434, 0.1436, 0.1440, 0.1447, 0.1448,\n",
      "        0.1449, 0.1451, 0.1454, 0.1463, 0.1469, 0.1474, 0.1471, 0.1474, 0.1481,\n",
      "        0.1490, 0.1488, 0.1492, 0.1495, 0.1492, 0.1494, 0.1497, 0.1498, 0.1498,\n",
      "        0.1500, 0.1503, 0.1508, 0.1509, 0.1508, 0.1514, 0.1520, 0.1523, 0.1523,\n",
      "        0.1527, 0.1530, 0.1535, 0.1537, 0.1539, 0.1542, 0.1547, 0.1553, 0.1559,\n",
      "        0.1562, 0.1567, 0.1580, 0.1584, 0.1590, 0.1592, 0.1593, 0.1594, 0.1598,\n",
      "        0.1599, 0.1597, 0.1595, 0.1594, 0.1590, 0.1585], dtype=torch.float64) \n",
      "\n",
      "Mean over all elements = 0.1513668421849788 \n",
      "\n",
      "Variance vector: tensor([0.0681, 0.0686, 0.0691, 0.0694, 0.0697, 0.0700, 0.0704, 0.0709, 0.0714,\n",
      "        0.0719, 0.0724, 0.0729, 0.0732, 0.0740, 0.0745, 0.0749, 0.0754, 0.0758,\n",
      "        0.0760, 0.0761, 0.0766, 0.0767, 0.0771, 0.0774, 0.0776, 0.0781, 0.0786,\n",
      "        0.0786, 0.0786, 0.0788, 0.0792, 0.0795, 0.0797, 0.0801, 0.0804, 0.0806,\n",
      "        0.0810, 0.0811, 0.0812, 0.0815, 0.0816, 0.0818, 0.0819, 0.0823, 0.0822,\n",
      "        0.0823, 0.0825, 0.0827, 0.0828, 0.0829, 0.0831, 0.0834, 0.0837, 0.0841,\n",
      "        0.0843, 0.0850, 0.0852, 0.0855, 0.0859, 0.0860], dtype=torch.float64) \n",
      "\n",
      "Average variance = 0.07827178654046799\n"
     ]
    }
   ],
   "source": [
    "_, annot = train_dataset.__getitem__(1)\n",
    "mean_vec = torch.zeros_like(annot)\n",
    "var_vec = torch.zeros_like(annot)\n",
    "annot_frame = None\n",
    "for batch_idx, (data, target) in enumerate(train_loader):\n",
    "    annot_frame = target\n",
    "mean_vec = torch.mean(annot_frame, dim=(0))\n",
    "print(\"Mean vector: \", mean_vec, \"\\n\")\n",
    "avg = torch.mean(annot_frame).item()\n",
    "print(\"Mean over all elements =\", avg, \"\\n\")\n",
    "var_vec = torch.var(annot_frame, dim=(0))\n",
    "print(\"Variance vector:\", var_vec, \"\\n\")\n",
    "avg_var = torch.mean(var_vec).item()\n",
    "print(\"Average variance =\", avg_var)"
   ]
  }
 ],
 "metadata": {
  "kernelspec": {
   "display_name": "m2v_cqt_training",
   "language": "python",
   "name": "python3"
  },
  "language_info": {
   "codemirror_mode": {
    "name": "ipython",
    "version": 3
   },
   "file_extension": ".py",
   "mimetype": "text/x-python",
   "name": "python",
   "nbconvert_exporter": "python",
   "pygments_lexer": "ipython3",
   "version": "3.12.1"
  }
 },
 "nbformat": 4,
 "nbformat_minor": 2
}
